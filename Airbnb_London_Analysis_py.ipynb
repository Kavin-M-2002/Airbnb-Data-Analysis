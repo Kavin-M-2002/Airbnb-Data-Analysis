{
 "cells": [
  {
   "cell_type": "markdown",
   "metadata": {
    "application/vnd.databricks.v1+cell": {
     "cellMetadata": {},
     "inputWidgets": {},
     "nuid": "4ac90b4a-a06b-4a8e-b9c0-7ff6bccf0f72",
     "showTitle": false,
     "tableResultSettingsMap": {},
     "title": ""
    }
   },
   "source": [
    "##Loading Data"
   ]
  },
  {
   "cell_type": "code",
   "execution_count": 0,
   "metadata": {
    "application/vnd.databricks.v1+cell": {
     "cellMetadata": {
      "byteLimit": 2048000,
      "rowLimit": 10000
     },
     "inputWidgets": {},
     "nuid": "e1d6e858-79d9-44f3-9f9f-fea80cd8e107",
     "showTitle": false,
     "tableResultSettingsMap": {},
     "title": ""
    }
   },
   "outputs": [],
   "source": [
    "from pyspark.sql import SparkSession\n",
    "#initializing Spark Session\n",
    "spark = SparkSession.builder.appName(\"AirbnbDataAnalysis\").getOrCreate() "
   ]
  },
  {
   "cell_type": "code",
   "execution_count": 0,
   "metadata": {
    "application/vnd.databricks.v1+cell": {
     "cellMetadata": {
      "byteLimit": 2048000,
      "rowLimit": 10000
     },
     "inputWidgets": {},
     "nuid": "d3a1a69b-431d-4a03-883f-df7c51e87c6d",
     "showTitle": false,
     "tableResultSettingsMap": {},
     "title": ""
    }
   },
   "outputs": [
    {
     "output_type": "stream",
     "name": "stdout",
     "output_type": "stream",
     "text": [
      "+-----+--------------------+-------+---------+-------------------+--------------------+--------+---------+---------------+-----+--------------+-----------------+-----------+-----------------+------------------------------+----------------+---------------------+-------+\n|   id|                name|host_id|host_name|neighbourhood_group|       neighbourhood|latitude|longitude|      room_type|price|minimum_nights|number_of_reviews|last_review|reviews_per_month|calculated_host_listings_count|availability_365|number_of_reviews_ltm|license|\n+-----+--------------------+-------+---------+-------------------+--------------------+--------+---------+---------------+-----+--------------+-----------------+-----------+-----------------+------------------------------+----------------+---------------------+-------+\n|13913|Holiday London DB...|  54730|    Alina|               null|           Islington|51.56861|  -0.1127|   Private room|   59|             1|               47| 17-11-2024|             0.27|                           3.0|             344|                    6|   null|\n|15400|Bright Chelsea  A...|  60302| Philippa|               null|Kensington and Ch...|51.48811| -0.16878|Entire home/apt|  120|             4|               96| 28-04-2024|             0.53|                           1.0|              85|                    2|   null|\n|17402|Very Central Mode...|  67564|      Liz|               null|         Westminster|51.52195| -0.14094|Entire home/apt|  501|             3|               56| 19-02-2024|             0.33|                           6.0|             297|                    1|   null|\n|24328|Battersea live/wo...|  41759|      Joe|               null|          Wandsworth|51.47072| -0.16266|Entire home/apt|  225|             2|               94| 19-07-2022|             0.55|                           1.0|             284|                    0|   null|\n|31036|Bright  compact 1...| 133271| Hendryks|               null|       Tower Hamlets|51.52425| -0.06997|Entire home/apt|  105|             3|              123| 05-01-2024|              0.7|                           8.0|             346|                    2|   null|\n+-----+--------------------+-------+---------+-------------------+--------------------+--------+---------+---------------+-----+--------------+-----------------+-----------+-----------------+------------------------------+----------------+---------------------+-------+\nonly showing top 5 rows\n\n"
     ]
    }
   ],
   "source": [
    "file_path= \"/FileStore/tables/listings.csv\"\n",
    "#load csv file\n",
    "df = spark.read.csv(file_path, header=True, inferSchema=True)\n",
    "df.show(5)"
   ]
  },
  {
   "cell_type": "markdown",
   "metadata": {
    "application/vnd.databricks.v1+cell": {
     "cellMetadata": {},
     "inputWidgets": {},
     "nuid": "bbdd11e3-74c7-45ea-855d-d2462e63e2ee",
     "showTitle": false,
     "tableResultSettingsMap": {},
     "title": ""
    }
   },
   "source": [
    "## Data Preprocessing"
   ]
  },
  {
   "cell_type": "code",
   "execution_count": 0,
   "metadata": {
    "application/vnd.databricks.v1+cell": {
     "cellMetadata": {
      "byteLimit": 2048000,
      "rowLimit": 10000
     },
     "inputWidgets": {},
     "nuid": "32029a2d-8bd1-4bab-ab9b-13510a5ab27f",
     "showTitle": false,
     "tableResultSettingsMap": {},
     "title": ""
    }
   },
   "outputs": [
    {
     "output_type": "stream",
     "name": "stdout",
     "output_type": "stream",
     "text": [
      "root\n |-- id: string (nullable = true)\n |-- name: string (nullable = true)\n |-- host_id: string (nullable = true)\n |-- host_name: string (nullable = true)\n |-- neighbourhood_group: string (nullable = true)\n |-- neighbourhood: string (nullable = true)\n |-- latitude: string (nullable = true)\n |-- longitude: string (nullable = true)\n |-- room_type: string (nullable = true)\n |-- price: string (nullable = true)\n |-- minimum_nights: integer (nullable = true)\n |-- number_of_reviews: string (nullable = true)\n |-- last_review: string (nullable = true)\n |-- reviews_per_month: string (nullable = true)\n |-- calculated_host_listings_count: double (nullable = true)\n |-- availability_365: integer (nullable = true)\n |-- number_of_reviews_ltm: integer (nullable = true)\n |-- license: integer (nullable = true)\n\n"
     ]
    }
   ],
   "source": [
    "#schema check\n",
    "df.printSchema()"
   ]
  },
  {
   "cell_type": "markdown",
   "metadata": {
    "application/vnd.databricks.v1+cell": {
     "cellMetadata": {},
     "inputWidgets": {},
     "nuid": "db206dc2-2594-4ece-94b8-6f2c705999a9",
     "showTitle": false,
     "tableResultSettingsMap": {},
     "title": ""
    }
   },
   "source": [
    "**we can see that `host_id`,`reviews_per_month`,`price`, `latitude` and `longitude` should be numerical format, but they are stored as strings**"
   ]
  },
  {
   "cell_type": "code",
   "execution_count": 0,
   "metadata": {
    "application/vnd.databricks.v1+cell": {
     "cellMetadata": {
      "byteLimit": 2048000,
      "rowLimit": 10000
     },
     "inputWidgets": {},
     "nuid": "36f09d68-3496-4081-8bad-b5dac561a4c9",
     "showTitle": false,
     "tableResultSettingsMap": {},
     "title": ""
    }
   },
   "outputs": [
    {
     "output_type": "stream",
     "name": "stdout",
     "output_type": "stream",
     "text": [
      "root\n |-- id: string (nullable = true)\n |-- name: string (nullable = true)\n |-- host_id: integer (nullable = true)\n |-- host_name: string (nullable = true)\n |-- neighbourhood_group: string (nullable = true)\n |-- neighbourhood: string (nullable = true)\n |-- latitude: double (nullable = true)\n |-- longitude: double (nullable = true)\n |-- room_type: string (nullable = true)\n |-- price: float (nullable = true)\n |-- minimum_nights: integer (nullable = true)\n |-- number_of_reviews: string (nullable = true)\n |-- last_review: string (nullable = true)\n |-- reviews_per_month: float (nullable = true)\n |-- calculated_host_listings_count: double (nullable = true)\n |-- availability_365: integer (nullable = true)\n |-- number_of_reviews_ltm: integer (nullable = true)\n |-- license: integer (nullable = true)\n\n"
     ]
    }
   ],
   "source": [
    "#Converting data types\n",
    "from pyspark.sql.functions import col\n",
    "df = df.withColumn(\"host_id\", col(\"host_id\").cast(\"int\")) \\\n",
    "       .withColumn(\"latitude\", col(\"latitude\").cast(\"double\")) \\\n",
    "       .withColumn(\"longitude\", col(\"longitude\").cast(\"double\")) \\\n",
    "       .withColumn(\"price\", col(\"price\").cast(\"float\")) \\\n",
    "       .withColumn(\"reviews_per_month\", col(\"reviews_per_month\").cast(\"float\"))\n",
    "df.printSchema()"
   ]
  },
  {
   "cell_type": "code",
   "execution_count": 0,
   "metadata": {
    "application/vnd.databricks.v1+cell": {
     "cellMetadata": {
      "byteLimit": 2048000,
      "rowLimit": 10000
     },
     "inputWidgets": {},
     "nuid": "321052ab-a830-43d4-b848-0944770f8513",
     "showTitle": false,
     "tableResultSettingsMap": {},
     "title": ""
    }
   },
   "outputs": [
    {
     "output_type": "stream",
     "name": "stdout",
     "output_type": "stream",
     "text": [
      "+---+----+-------+---------+-------------------+-------------+--------+---------+---------+-----+--------------+-----------------+-----------+-----------------+------------------------------+----------------+---------------------+-------+\n| id|name|host_id|host_name|neighbourhood_group|neighbourhood|latitude|longitude|room_type|price|minimum_nights|number_of_reviews|last_review|reviews_per_month|calculated_host_listings_count|availability_365|number_of_reviews_ltm|license|\n+---+----+-------+---------+-------------------+-------------+--------+---------+---------+-----+--------------+-----------------+-----------+-----------------+------------------------------+----------------+---------------------+-------+\n|  0|  43|    572|      569|              95197|          322|     322|      563|      367|32634|           314|              373|      24894|            24843|                           315|             313|                  563|  95447|\n+---+----+-------+---------+-------------------+-------------+--------+---------+---------+-----+--------------+-----------------+-----------+-----------------+------------------------------+----------------+---------------------+-------+\n\n"
     ]
    }
   ],
   "source": [
    "#Handling missing values\n",
    "from pyspark.sql.functions import count,when\n",
    "#counting missing values in each column\n",
    "df.select([count(when(col(c).isNull(), c)).alias(c) for c in df.columns]).show()"
   ]
  },
  {
   "cell_type": "code",
   "execution_count": 0,
   "metadata": {
    "application/vnd.databricks.v1+cell": {
     "cellMetadata": {
      "byteLimit": 2048000,
      "rowLimit": 10000
     },
     "inputWidgets": {},
     "nuid": "2a5b3a8e-c495-4749-a907-828993d8aecd",
     "showTitle": false,
     "tableResultSettingsMap": {},
     "title": ""
    }
   },
   "outputs": [],
   "source": [
    "#removing duplicates\n",
    "df=df.dropDuplicates()"
   ]
  },
  {
   "cell_type": "markdown",
   "metadata": {
    "application/vnd.databricks.v1+cell": {
     "cellMetadata": {},
     "inputWidgets": {},
     "nuid": "e371a5cb-758b-4dac-96eb-069204645959",
     "showTitle": false,
     "tableResultSettingsMap": {},
     "title": ""
    }
   },
   "source": [
    "**Feature Engineering**"
   ]
  },
  {
   "cell_type": "code",
   "execution_count": 0,
   "metadata": {
    "application/vnd.databricks.v1+cell": {
     "cellMetadata": {
      "byteLimit": 2048000,
      "rowLimit": 10000
     },
     "inputWidgets": {},
     "nuid": "530c8921-fd15-4b55-a148-64743473edb1",
     "showTitle": false,
     "tableResultSettingsMap": {},
     "title": ""
    }
   },
   "outputs": [
    {
     "output_type": "stream",
     "name": "stdout",
     "output_type": "stream",
     "text": [
      "Out[28]: [Row(id='17402', name='Very Central Modern 3-Bed/2 Bath By Oxford St W1', host_id=67564, neighbourhood='Westminster', room_type='Entire home/apt', price=501.0, minimum_nights=3, number_of_reviews='56'),\n Row(id='31036', name='Bright  compact 1 Bedroom Apartment Brick Lane', host_id=133271, neighbourhood='Tower Hamlets', room_type='Entire home/apt', price=105.0, minimum_nights=3, number_of_reviews='123'),\n Row(id='24328', name='Battersea live/work artist house', host_id=41759, neighbourhood='Wandsworth', room_type='Entire home/apt', price=225.0, minimum_nights=2, number_of_reviews='94'),\n Row(id='33332', name='Beautiful Ensuite Richmond-upon-Thames borough', host_id=144444, neighbourhood='Richmond upon Thames', room_type='Private room', price=140.0, minimum_nights=2, number_of_reviews='19'),\n Row(id='13913', name='Holiday London DB Room Let-on going', host_id=54730, neighbourhood='Islington', room_type='Private room', price=59.0, minimum_nights=1, number_of_reviews='47'),\n Row(id='15400', name='Bright Chelsea  Apartment. Chelsea!', host_id=60302, neighbourhood='Kensington and Chelsea', room_type='Entire home/apt', price=120.0, minimum_nights=4, number_of_reviews='96')]"
     ]
    }
   ],
   "source": [
    "cols=[\"id\", \"name\", \"host_id\", \"neighbourhood\", \"room_type\", \"price\", \"minimum_nights\", \"number_of_reviews\"]\n",
    "df=df.select(cols)\n",
    "df.head(6)"
   ]
  },
  {
   "cell_type": "code",
   "execution_count": 0,
   "metadata": {
    "application/vnd.databricks.v1+cell": {
     "cellMetadata": {
      "byteLimit": 2048000,
      "rowLimit": 10000
     },
     "inputWidgets": {},
     "nuid": "19d875f0-93af-4070-9a33-862aa4854a51",
     "showTitle": false,
     "tableResultSettingsMap": {},
     "title": ""
    }
   },
   "outputs": [
    {
     "output_type": "stream",
     "name": "stdout",
     "output_type": "stream",
     "text": [
      "+---+----+-------+-------------+---------+-----+--------------+-----------------+\n| id|name|host_id|neighbourhood|room_type|price|minimum_nights|number_of_reviews|\n+---+----+-------+-------------+---------+-----+--------------+-----------------+\n|  0|  32|    560|          310|      355|32622|           302|              361|\n+---+----+-------+-------------+---------+-----+--------------+-----------------+\n\n"
     ]
    }
   ],
   "source": [
    "#identifying null values\n",
    "null_counts = df.select([count(when(col(c).isNull(), c)).alias(c) for c in df.columns])\n",
    "null_counts.show()"
   ]
  },
  {
   "cell_type": "code",
   "execution_count": 0,
   "metadata": {
    "application/vnd.databricks.v1+cell": {
     "cellMetadata": {
      "byteLimit": 2048000,
      "rowLimit": 10000
     },
     "inputWidgets": {},
     "nuid": "f1c7be56-c10f-4ad9-bfff-8408e5995c74",
     "showTitle": false,
     "tableResultSettingsMap": {},
     "title": ""
    }
   },
   "outputs": [
    {
     "output_type": "display_data",
     "data": {
      "image/png": "[encoded data removed]"
     },
     "metadata": {
      "application/vnd.databricks.v1+output": {
       "addedWidgets": {},
       "arguments": {},
       "data": "data:image/png;base64,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\n",
       "datasetInfos": [],
       "metadata": {},
       "removedWidgets": [],
       "type": "image"
      }
     },
     "output_type": "display_data"
    }
   ],
   "source": [
    "#checking data whether normally distributed\n",
    "import seaborn as sns\n",
    "import matplotlib.pyplot as plt\n",
    "\n",
    "# Example for 'price' column\n",
    "plt.figure(figsize=(8,4))\n",
    "sns.histplot(df.toPandas()[\"price\"], bins=50, kde=True)  # Convert PySpark DF to Pandas for plotting\n",
    "plt.title(\"Price Distribution\")\n",
    "plt.show()\n"
   ]
  },
  {
   "cell_type": "markdown",
   "metadata": {
    "application/vnd.databricks.v1+cell": {
     "cellMetadata": {},
     "inputWidgets": {},
     "nuid": "357003c7-deff-4fa8-a8bc-ed50d18c63a4",
     "showTitle": false,
     "tableResultSettingsMap": {},
     "title": ""
    }
   },
   "source": [
    "1. If the histogram is **bell-shaped**, the data is likely normally distributed.\n",
    "\n",
    "2. If it’s skewed **left** or **right**, the data is not normally distributed.\n",
    "\n",
    "The data has been skewed `left` in our case. Hence it is not normally distributed."
   ]
  },
  {
   "cell_type": "code",
   "execution_count": 0,
   "metadata": {
    "application/vnd.databricks.v1+cell": {
     "cellMetadata": {
      "byteLimit": 2048000,
      "rowLimit": 10000
     },
     "inputWidgets": {},
     "nuid": "b5cee2d9-e025-4921-99e8-1f66668bdc10",
     "showTitle": false,
     "tableResultSettingsMap": {},
     "title": ""
    }
   },
   "outputs": [
    {
     "output_type": "stream",
     "name": "stdout",
     "output_type": "stream",
     "text": [
      "[('id', 'string'), ('name', 'string'), ('host_id', 'int'), ('neighbourhood', 'string'), ('room_type', 'string'), ('price', 'float'), ('minimum_nights', 'int'), ('number_of_reviews', 'string')]\n"
     ]
    }
   ],
   "source": [
    "print(df.dtypes)"
   ]
  },
  {
   "cell_type": "code",
   "execution_count": 0,
   "metadata": {
    "application/vnd.databricks.v1+cell": {
     "cellMetadata": {
      "byteLimit": 2048000,
      "rowLimit": 10000
     },
     "inputWidgets": {},
     "nuid": "1af16863-06d8-454e-b2ff-3c8299206e1a",
     "showTitle": false,
     "tableResultSettingsMap": {},
     "title": ""
    }
   },
   "outputs": [
    {
     "output_type": "display_data",
     "data": {
      "image/png": "[encoded data removed]"
     },
     "metadata": {
      "application/vnd.databricks.v1+output": {
       "addedWidgets": {},
       "arguments": {},
       "data": "data:image/png;base64,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\n",
       "datasetInfos": [],
       "metadata": {},
       "removedWidgets": [],
       "type": "image"
      }
     },
     "output_type": "display_data"
    }
   ],
   "source": [
    "#checking outliers\n",
    "sns.boxplot(x=df.toPandas()[\"price\"])\n",
    "plt.show()"
   ]
  },
  {
   "cell_type": "markdown",
   "metadata": {
    "application/vnd.databricks.v1+cell": {
     "cellMetadata": {},
     "inputWidgets": {},
     "nuid": "4a8bc12a-f4be-4800-af01-9a017e965f45",
     "showTitle": false,
     "tableResultSettingsMap": {},
     "title": ""
    }
   },
   "source": [
    "**So many extreme values**"
   ]
  },
  {
   "cell_type": "code",
   "execution_count": 0,
   "metadata": {
    "application/vnd.databricks.v1+cell": {
     "cellMetadata": {
      "byteLimit": 2048000,
      "rowLimit": 10000
     },
     "inputWidgets": {},
     "nuid": "fdd4dfee-9f95-4db2-8ff4-926dcaff500b",
     "showTitle": false,
     "tableResultSettingsMap": {},
     "title": ""
    }
   },
   "outputs": [
    {
     "output_type": "stream",
     "name": "stdout",
     "output_type": "stream",
     "text": [
      "Out[36]: [Row(id='17402', name='Very Central Modern 3-Bed/2 Bath By Oxford St W1', host_id=67564, neighbourhood='Westminster', room_type='Entire home/apt', price=501.0, minimum_nights=3, number_of_reviews='56'),\n Row(id='31036', name='Bright  compact 1 Bedroom Apartment Brick Lane', host_id=133271, neighbourhood='Tower Hamlets', room_type='Entire home/apt', price=105.0, minimum_nights=3, number_of_reviews='123'),\n Row(id='24328', name='Battersea live/work artist house', host_id=41759, neighbourhood='Wandsworth', room_type='Entire home/apt', price=225.0, minimum_nights=2, number_of_reviews='94'),\n Row(id='13913', name='Holiday London DB Room Let-on going', host_id=54730, neighbourhood='Islington', room_type='Private room', price=59.0, minimum_nights=1, number_of_reviews='47'),\n Row(id='15400', name='Bright Chelsea  Apartment. Chelsea!', host_id=60302, neighbourhood='Kensington and Chelsea', room_type='Entire home/apt', price=120.0, minimum_nights=4, number_of_reviews='96')]"
     ]
    }
   ],
   "source": [
    "df = df.fillna({\"number_of_reviews\": 0, \"minimum_nights\": 1})\n",
    "df.head(5)\n"
   ]
  },
  {
   "cell_type": "code",
   "execution_count": 0,
   "metadata": {
    "application/vnd.databricks.v1+cell": {
     "cellMetadata": {
      "byteLimit": 2048000,
      "rowLimit": 10000
     },
     "inputWidgets": {},
     "nuid": "94ef82ba-8224-401e-b825-3c276d9491da",
     "showTitle": false,
     "tableResultSettingsMap": {},
     "title": ""
    }
   },
   "outputs": [
    {
     "output_type": "stream",
     "name": "stdout",
     "output_type": "stream",
     "text": [
      "+-----+--------------------+-------+--------------------+---------------+-----+--------------+-----------------+\n|   id|                name|host_id|       neighbourhood|      room_type|price|minimum_nights|number_of_reviews|\n+-----+--------------------+-------+--------------------+---------------+-----+--------------+-----------------+\n|17402|Very Central Mode...|  67564|         Westminster|Entire home/apt|501.0|             3|               56|\n|41870|Room in relaxed f...| 182993|      Waltham Forest|   Private room| null|             2|                2|\n|31036|Bright  compact 1...| 133271|       Tower Hamlets|Entire home/apt|105.0|             3|              123|\n|38950|Room 1 Large Doub...| 167107|            Haringey|   Private room| 55.0|             1|                1|\n|42010|You Will Save Mon...| 157884|              Barnet|   Private room| 65.0|             2|              604|\n|24328|Battersea live/wo...|  41759|          Wandsworth|Entire home/apt|225.0|             2|               94|\n|42692|Fabulous flat w g...| 186510|Hammersmith and F...|   Private room| null|             1|                0|\n|33332|Beautiful Ensuite...| 144444|Richmond upon Thames|   Private room|140.0|             2|               19|\n|36660|You are GUARANTEE...| 157884|            Haringey|   Private room| 82.0|             2|              705|\n|38995|SPACIOUS ROOM IN ...| 167281|           Southwark|   Private room| 53.0|             1|               63|\n|43202|Beautiful 1 bed a...| 188559|               Brent|Entire home/apt| null|             5|              139|\n|41509|Room in maisonett...| 181028|            Hounslow|   Private room| null|             1|               71|\n|43129|Quiet Comfortable...| 188138|Hammersmith and F...|   Private room| 55.0|             3|              246|\n|41445|2 Double bed apar...| 180838|              Barnet|Entire home/apt|165.0|             4|               25|\n|36299|Kew Gardens 3BR h...| 155938|Richmond upon Thames|Entire home/apt|245.0|             3|              113|\n|13913|Holiday London DB...|  54730|           Islington|   Private room| 59.0|             1|               47|\n|45163|  Room with a garden| 199530|              Camden|   Private room| 45.0|             2|                1|\n|15400|Bright Chelsea  A...|  60302|Kensington and Ch...|Entire home/apt|120.0|             4|               96|\n|39387|Stylish bedsit in...| 168920|         Westminster|   Private room| null|             5|               10|\n|44384|DOUBLE ROOM IN A ...| 194769|              Barnet|   Private room| 43.0|            30|                0|\n+-----+--------------------+-------+--------------------+---------------+-----+--------------+-----------------+\nonly showing top 20 rows\n\n"
     ]
    }
   ],
   "source": [
    " df.select([count(when(col(c).isNull(), c)).alias(c) for c in df.columns])\n",
    " df.show()"
   ]
  },
  {
   "cell_type": "markdown",
   "metadata": {
    "application/vnd.databricks.v1+cell": {
     "cellMetadata": {},
     "inputWidgets": {},
     "nuid": "e3985205-b3f6-4db9-9217-3d5fcff992b5",
     "showTitle": false,
     "tableResultSettingsMap": {},
     "title": ""
    }
   },
   "source": [
    "##Data Exploration & Analysis"
   ]
  },
  {
   "cell_type": "code",
   "execution_count": 0,
   "metadata": {
    "application/vnd.databricks.v1+cell": {
     "cellMetadata": {
      "byteLimit": 2048000,
      "rowLimit": 10000
     },
     "inputWidgets": {},
     "nuid": "cdffb20f-50ec-4131-8de1-8fe6b35e4a32",
     "showTitle": false,
     "tableResultSettingsMap": {},
     "title": ""
    }
   },
   "outputs": [
    {
     "output_type": "stream",
     "name": "stdout",
     "output_type": "stream",
     "text": [
      "+-------+--------------------+--------------------+--------------------+-------------------+------------------+------------------+-----------------+-----------------+\n|summary|                  id|                name|             host_id|      neighbourhood|         room_type|             price|   minimum_nights|number_of_reviews|\n+-------+--------------------+--------------------+--------------------+-------------------+------------------+------------------+-----------------+-----------------+\n|  count|               95424|               95392|               94864|              95114|             95069|             62802|            95424|            95424|\n|   mean|5.770480124582083...| 2.419262616459144E8|1.9381480801724574E8| 51.513505517880006|127.67537839255122|206.61467787650074|5.589757293762576|19.97991263624336|\n| stddev|5.304268640244991...|2.0786067934960383E8|2.0075356728620583E8|0.05830548053115835|114.44250701265062| 774.6170449673041|23.23442670458596|47.78966119446791|\n|    min|       home london.\"|          1 Sofa bed|                2594|        51.33782043|      -0.066388158|               1.0|                0|                0|\n|    max|             zone 2\"|🤴 Kingsize room ...|           666236454|        Westminster|       Shared room|           80000.0|             1125|               99|\n+-------+--------------------+--------------------+--------------------+-------------------+------------------+------------------+-----------------+-----------------+\n\n"
     ]
    }
   ],
   "source": [
    "#checking basic statistics\n",
    "df.describe().show()"
   ]
  },
  {
   "cell_type": "markdown",
   "metadata": {
    "application/vnd.databricks.v1+cell": {
     "cellMetadata": {},
     "inputWidgets": {},
     "nuid": "49119829-4d95-4e71-a0b0-3ca66e2a6628",
     "showTitle": false,
     "tableResultSettingsMap": {},
     "title": ""
    }
   },
   "source": [
    "### Data Visualization"
   ]
  },
  {
   "cell_type": "markdown",
   "metadata": {
    "application/vnd.databricks.v1+cell": {
     "cellMetadata": {},
     "inputWidgets": {},
     "nuid": "6be0de4c-6f0c-4aee-8399-37f551791dd0",
     "showTitle": false,
     "tableResultSettingsMap": {},
     "title": ""
    }
   },
   "source": [
    "**Top 4 Room Types**"
   ]
  },
  {
   "cell_type": "code",
   "execution_count": 0,
   "metadata": {
    "application/vnd.databricks.v1+cell": {
     "cellMetadata": {
      "byteLimit": 2048000,
      "rowLimit": 10000
     },
     "inputWidgets": {},
     "nuid": "a2a42c42-a459-4b47-9de2-f0ec5f1d4d51",
     "showTitle": false,
     "tableResultSettingsMap": {},
     "title": ""
    }
   },
   "outputs": [
    {
     "output_type": "stream",
     "name": "stdout",
     "output_type": "stream",
     "text": [
      "Columns: Index(['room_type', 'count'], dtype='object')\n"
     ]
    },
    {
     "output_type": "display_data",
     "data": {
      "image/png": "[encoded data removed]"
     },
     "metadata": {
      "application/vnd.databricks.v1+output": {
       "addedWidgets": {},
       "arguments": {},
       "data": "data:image/png;base64,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\n",
       "datasetInfos": [],
       "metadata": {},
       "removedWidgets": [],
       "type": "image"
      }
     },
     "output_type": "display_data"
    }
   ],
   "source": [
    "import matplotlib.pyplot as plt\n",
    "import pandas as pd\n",
    "\n",
    "# Convert to Pandas only if it's a PySpark DataFrame\n",
    "if not isinstance(df, pd.DataFrame):\n",
    "    df = df.toPandas()\n",
    "\n",
    "# Check and fix column names\n",
    "print(\"Columns:\", df.columns)  # Debugging step\n",
    "\n",
    "if \"count\" not in df.columns:\n",
    "    df = df.groupby(\"room_type\").size().reset_index(name=\"count\")  # Aggregate if missing\n",
    "\n",
    "# Ensure count is numeric\n",
    "df[\"count\"] = pd.to_numeric(df[\"count\"], errors=\"coerce\").fillna(0)\n",
    "\n",
    "# Select only the top 4 room types\n",
    "df_top4 = df.nlargest(4, \"count\")  # Select top 4 based on count\n",
    "\n",
    "# Plot bar chart\n",
    "plt.figure(figsize=(8, 5))\n",
    "plt.bar(df_top4[\"room_type\"], df_top4[\"count\"], color=[\"blue\", \"red\", \"green\", \"purple\"])\n",
    "plt.xlabel(\"Room Type\")\n",
    "plt.ylabel(\"Count\")\n",
    "plt.title(\"Top 4 Popular Room Types\")\n",
    "plt.xticks(rotation=45)  \n",
    "plt.show()"
   ]
  }
 ],
 "metadata": {
  "application/vnd.databricks.v1+notebook": {
   "computePreferences": null,
   "dashboards": [],
   "environmentMetadata": {
    "base_environment": "",
    "client": "1"
   },
   "language": "python",
   "notebookMetadata": {
    "mostRecentlyExecutedCommandWithImplicitDF": {
     "commandId": 1007137866796648,
     "dataframes": [
      "_sqldf"
     ]
    },
    "pythonIndentUnit": 4
   },
   "notebookName": "Airbnb_London_Analysis_py",
   "widgets": {}
  }
 },
 "nbformat": 4,
 "nbformat_minor": 0
}
